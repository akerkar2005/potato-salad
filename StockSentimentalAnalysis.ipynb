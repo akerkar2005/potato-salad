{
 "cells": [
  {
   "cell_type": "code",
   "execution_count": 6,
   "id": "43c0e00b-fd33-4a9f-ab8c-bbbf72a2187f",
   "metadata": {},
   "outputs": [],
   "source": [
    "import requests\n",
    "import trafilatura\n",
    "import yfinance as yf\n",
    "import pandas as pd\n",
    "from bs4 import BeautifulSoup\n",
    "from transformers import AutoModelForSequenceClassification, AutoTokenizer, pipeline\n",
    "import torch\n",
    "import modal"
   ]
  },
  {
   "cell_type": "code",
   "execution_count": 7,
   "id": "aea4cb91-e78e-4391-b0b1-ebf20a968c20",
   "metadata": {},
   "outputs": [
    {
     "name": "stdout",
     "output_type": "stream",
     "text": [
      "2.6.0.dev20241112\n",
      "MPS available: True\n"
     ]
    }
   ],
   "source": [
    "print(torch.__version__)\n",
    "print(\"MPS available:\", torch.backends.mps.is_available())"
   ]
  },
  {
   "cell_type": "code",
   "execution_count": 8,
   "id": "23156013-698a-4638-97b5-0d93dd6436df",
   "metadata": {},
   "outputs": [
    {
     "name": "stdout",
     "output_type": "stream",
     "text": [
      "🔥 MPS is available!\n",
      "Using device: mps\n"
     ]
    }
   ],
   "source": [
    "if torch.backends.mps.is_available():\n",
    "    print(\"🔥 MPS is available!\")\n",
    "    print(f\"Using device: {torch.device('mps')}\")\n",
    "else:\n",
    "    print(\"❌ MPS not available, check installation!\")\n"
   ]
  },
  {
   "cell_type": "code",
   "execution_count": 9,
   "id": "cdf5969f-67a2-4eff-a2db-bd57c4dd69c7",
   "metadata": {},
   "outputs": [
    {
     "name": "stdout",
     "output_type": "stream",
     "text": [
      "FinBERT loaded on: mps\n"
     ]
    }
   ],
   "source": [
    "device = torch.device(\"mps\") if torch.backends.mps.is_available() else torch.device(\"cpu\")\n",
    "\n",
    "finbert_model = \"ProsusAI/finbert\"\n",
    "tokenizer = AutoTokenizer.from_pretrained(finbert_model)\n",
    "model = AutoModelForSequenceClassification.from_pretrained(finbert_model).to(device)\n",
    "\n",
    "sentiment_pipeline = pipeline(\"sentiment-analysis\", model=model, tokenizer=tokenizer, device=0 if device.type == \"mps\" else -1)\n",
    "\n",
    "print(\"FinBERT loaded on:\", device)"
   ]
  },
  {
   "cell_type": "code",
   "execution_count": 11,
   "id": "59379a21-c6ca-4979-aed1-92ba866bfd5e",
   "metadata": {},
   "outputs": [
    {
     "name": "stdout",
     "output_type": "stream",
     "text": [
      "{'label': 'positive', 'score': 0.9441174268722534}\n",
      "{'label': 'negative', 'score': 0.9740584492683411}\n",
      "{'label': 'positive', 'score': 0.9288909435272217}\n"
     ]
    }
   ],
   "source": [
    "stock_articles = [\n",
    "    \"Apple's earnings report exceeded expectations.\",\n",
    "    \"Tesla stock saw a significant drop in the last quarter.\",\n",
    "    \"Amazon is expanding its delivery network in Europe.\"\n",
    "]\n",
    "results = sentiment_pipeline(stock_articles)\n",
    "for res in results:\n",
    "    print(res)"
   ]
  },
  {
   "cell_type": "code",
   "execution_count": 16,
   "id": "972114a8-358c-476f-90b1-d9b9cbeeb547",
   "metadata": {},
   "outputs": [
    {
     "name": "stdout",
     "output_type": "stream",
     "text": [
      "[{'label': 'positive', 'score': 0.9290725588798523}]\n"
     ]
    }
   ],
   "source": [
    "result = sentiment_pipeline(\"I believe that stocks are exceeding expectations\")\n",
    "print(result)"
   ]
  },
  {
   "cell_type": "code",
   "execution_count": 24,
   "id": "6a588424-89d1-45b2-99ce-e99171040a2e",
   "metadata": {},
   "outputs": [],
   "source": [
    "import openai\n",
    "from fastapi import FastAPI, Query\n",
    " \n",
    "app = FastAPI()\n",
    "\n",
    "# Load FinBERT model for sentiment analysis\n",
    "finbert_model = \"ProsusAI/finbert\"\n",
    "tokenizer = AutoTokenizer.from_pretrained(finbert_model)\n",
    "model = AutoModelForSequenceClassification.from_pretrained(finbert_model)\n",
    "sentiment_pipeline = pipeline(\"sentiment-analysis\", model=model, tokenizer=tokenizer, device=0 if device.type == \"mps\" else -1)\n",
    "\n",
    "# OpenAI API key (ensure you set this securely in a real application)\n",
    "openai.api_key = \"your-openai-api-key\"\n",
    "\n",
    "@app.get(\"/analyze\")\n",
    "def analyze_stock(ticker: str = Query(..., description=\"Stock ticker symbol\")):\n",
    "    \"\"\"\n",
    "    Analyze the sentiment of a given stock ticker and provide investment reasoning.\n",
    "    \"\"\"\n",
    "    # Placeholder for news/article retrieval (to be implemented later)\n",
    "    news_article = f\"Latest news about {ticker}. Apple's earnings report exceeded expectations.\"\n",
    "    \n",
    "    # Perform sentiment analysis\n",
    "    sentiment_result = sentiment_pipeline(news_article)[0]\n",
    "    sentiment_label = sentiment_result[\"label\"]\n",
    "    \n",
    "    # Generate investment reasoning using OpenAI\n",
    "    reasoning_prompt = (\n",
    "        f\"The sentiment for stock {ticker} is {sentiment_label}. Explain why this sentiment might impact investment decisions.\"\n",
    "    )\n",
    "    response = openai.ChatCompletion.create(\n",
    "        model=\"gpt-4\",\n",
    "        messages=[{\"role\": \"system\", \"content\": reasoning_prompt}]\n",
    "    )\n",
    "    investment_reasoning = response[\"choices\"][0][\"message\"][\"content\"]\n",
    "    \n",
    "    return {\n",
    "        \"ticker\": ticker,\n",
    "        \"sentiment\": sentiment_label,\n",
    "        \"reasoning\": investment_reasoning\n",
    "    }"
   ]
  },
  {
   "cell_type": "code",
   "execution_count": null,
   "id": "1c7f932b-7ad9-40c5-bc95-bc2681d2408b",
   "metadata": {},
   "outputs": [],
   "source": [
    "AAPL"
   ]
  }
 ],
 "metadata": {
  "kernelspec": {
   "display_name": "Python [stockscreen]",
   "language": "python",
   "name": "stockscreen"
  },
  "language_info": {
   "codemirror_mode": {
    "name": "ipython",
    "version": 3
   },
   "file_extension": ".py",
   "mimetype": "text/x-python",
   "name": "python",
   "nbconvert_exporter": "python",
   "pygments_lexer": "ipython3",
   "version": "3.12.9"
  }
 },
 "nbformat": 4,
 "nbformat_minor": 5
}
